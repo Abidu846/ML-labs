{
 "cells": [
  {
   "cell_type": "code",
   "execution_count": 1,
   "metadata": {},
   "outputs": [],
   "source": [
    "import pandas as pd\n",
    "import numpy as np\n",
    "import matplotlib.pyplot as plt\n",
    "#import seaborn as sns\n",
    "%matplotlib inline"
   ]
  },
  {
   "cell_type": "code",
   "execution_count": 2,
   "metadata": {},
   "outputs": [],
   "source": [
    "df = pd.read_csv(r'C:\\Users\\Abid\\anaconda\\envs\\Lab_4.2\\2_Missing_Values_Filled.csv', parse_dates=['Datetime'], index_col='Datetime')"
   ]
  },
  {
   "cell_type": "code",
   "execution_count": 3,
   "metadata": {},
   "outputs": [
    {
     "data": {
      "text/plain": [
       "<Axes: >"
      ]
     },
     "execution_count": 3,
     "metadata": {},
     "output_type": "execute_result"
    },
    {
     "data": {
      "image/png": "[encoded data removed]",
      "text/plain": [
       "<Figure size 640x480 with 1 Axes>"
      ]
     },
     "metadata": {},
     "output_type": "display_data"
    }
   ],
   "source": [
    "df.boxplot('AEP_MW')"
   ]
  },
  {
   "cell_type": "code",
   "execution_count": 4,
   "metadata": {},
   "outputs": [],
   "source": [
    "def detect_outliers_iqr(data):\n",
    "    outliers = []\n",
    "    #data = sorted(data)\n",
    "    q1 = data['AEP_MW'].quantile(0.25)\n",
    "    q3 = data['AEP_MW'].quantile(0.75)\n",
    "    # print(q1, q3)\n",
    "    IQR = q3-q1\n",
    "    lwr_bound = q1-(1.5*IQR)\n",
    "    upr_bound = q3+(1.5*IQR)\n",
    "    # print(lwr_bound, upr_bound)\n",
    "    idx = 2\n",
    "    idx_list = []\n",
    "    for i in list(data['AEP_MW']): \n",
    "        if (i<lwr_bound or i>upr_bound):\n",
    "            outliers.append(i)\n",
    "            idx_list.append(idx)\n",
    "        idx = idx + 1\n",
    "    data.loc[data['AEP_MW'] < lwr_bound, 'AEP_MW'] = np.nan\n",
    "    data.loc[data['AEP_MW'] > upr_bound, 'AEP_MW'] = np.nan\n",
    "    return outliers, data, idx_list# Driver code"
   ]
  },
  {
   "cell_type": "code",
   "execution_count": 6,
   "metadata": {},
   "outputs": [
    {
     "name": "stdout",
     "output_type": "stream",
     "text": [
      "Outliers from IQR method:  [22554.0, 22473.0, 22483.0, 22486.0, 22488.0, 22551.0, 22546.0, 22496.0, 22547.0, 22520.0, 22519.0, 22504.0, 22528.0, 22493.0, 22512.0, 22547.0, 22475.0, 22522.0, 22553.0, 22509.0, 22530.0, 22511.0, 22554.0, 22492.0, 22525.0, 22480.0, 22489.0, 22501.0, 22544.0, 22473.0, 22511.0, 22497.0, 22498.0, 22523.0, 22522.0, 22542.0, 22499.0, 22545.0, 22494.0, 22549.0, 22532.0, 22554.0, 22492.0, 22556.0, 22481.0, 22499.0, 22517.0, 22487.0, 22530.0, 22548.0, 22521.0, 22542.0, 22513.0, 22517.0, 22516.0, 22549.0, 22520.0, 22542.0, 22499.0, 22494.0, 22544.0, 22541.0, 22473.0, 22491.0, 22536.0, 22473.0, 22542.0, 22514.0, 22479.0, 22550.0, 22478.0, 22508.0, 22531.0, 22486.0, 22505.0, 22488.0, 22477.0]\n"
     ]
    }
   ],
   "source": [
    "sample_outliers, p_data, index_of_out = detect_outliers_iqr(df)\n",
    "print(\"Outliers from IQR method: \", sample_outliers)"
   ]
  },
  {
   "cell_type": "code",
   "execution_count": 7,
   "metadata": {},
   "outputs": [
    {
     "data": {
      "text/plain": [
       "743"
      ]
     },
     "execution_count": 7,
     "metadata": {},
     "output_type": "execute_result"
    }
   ],
   "source": [
    "pd.isnull(p_data['AEP_MW']).sum()"
   ]
  },
  {
   "cell_type": "code",
   "execution_count": 8,
   "metadata": {
    "collapsed": true
   },
   "outputs": [
    {
     "data": {
      "text/plain": [
       "[1929,\n",
       " 7026,\n",
       " 7173,\n",
       " 7335,\n",
       " 7529,\n",
       " 7530,\n",
       " 7580,\n",
       " 15739,\n",
       " 15759,\n",
       " 16045,\n",
       " 16122,\n",
       " 16214,\n",
       " 20409,\n",
       " 20606,\n",
       " 20610,\n",
       " 20661,\n",
       " 20816,\n",
       " 20913,\n",
       " 23774,\n",
       " 23781,\n",
       " 24787,\n",
       " 24959,\n",
       " 25123,\n",
       " 25389,\n",
       " 25485,\n",
       " 26154,\n",
       " 28531,\n",
       " 28558,\n",
       " 29217,\n",
       " 29483,\n",
       " 32439,\n",
       " 33280,\n",
       " 33351,\n",
       " 33378,\n",
       " 33570,\n",
       " 33619,\n",
       " 34385,\n",
       " 34408,\n",
       " 37664,\n",
       " 37764,\n",
       " 38097,\n",
       " 38098,\n",
       " 38111,\n",
       " 38745,\n",
       " 50513,\n",
       " 50515,\n",
       " 50540,\n",
       " 50731,\n",
       " 50917,\n",
       " 50946,\n",
       " 50947,\n",
       " 51043,\n",
       " 51428,\n",
       " 51832,\n",
       " 54383,\n",
       " 58410,\n",
       " 58604,\n",
       " 59418,\n",
       " 59419,\n",
       " 59659,\n",
       " 59779,\n",
       " 59898,\n",
       " 67674,\n",
       " 68056,\n",
       " 68060,\n",
       " 68300,\n",
       " 68343,\n",
       " 77108,\n",
       " 77127,\n",
       " 81235,\n",
       " 81757,\n",
       " 81775,\n",
       " 90972,\n",
       " 91061,\n",
       " 91162,\n",
       " 103984,\n",
       " 103985]"
      ]
     },
     "execution_count": 8,
     "metadata": {},
     "output_type": "execute_result"
    }
   ],
   "source": [
    "index_of_out"
   ]
  },
  {
   "cell_type": "code",
   "execution_count": 9,
   "metadata": {},
   "outputs": [
    {
     "name": "stderr",
     "output_type": "stream",
     "text": [
      "C:\\Users\\Abid\\AppData\\Local\\Temp\\ipykernel_10512\\3789388383.py:1: FutureWarning: A value is trying to be set on a copy of a DataFrame or Series through chained assignment using an inplace method.\n",
      "The behavior will change in pandas 3.0. This inplace method will never work because the intermediate object on which we are setting values always behaves as a copy.\n",
      "\n",
      "For example, when doing 'df[col].method(value, inplace=True)', try using 'df.method({col: value}, inplace=True)' or df[col] = df[col].method(value) instead, to perform the operation inplace on the original object.\n",
      "\n",
      "\n",
      "  df['AEP_MW'].interpolate(method='time',inplace=True)\n"
     ]
    }
   ],
   "source": [
    "df['AEP_MW'].interpolate(method='time',inplace=True)"
   ]
  },
  {
   "cell_type": "code",
   "execution_count": 10,
   "metadata": {},
   "outputs": [
    {
     "data": {
      "text/plain": [
       "0"
      ]
     },
     "execution_count": 10,
     "metadata": {},
     "output_type": "execute_result"
    }
   ],
   "source": [
    "pd.isnull(p_data['AEP_MW']).sum()"
   ]
  },
  {
   "cell_type": "code",
   "execution_count": 11,
   "metadata": {},
   "outputs": [],
   "source": [
    "p_data.reset_index(inplace=True)"
   ]
  },
  {
   "cell_type": "code",
   "execution_count": 12,
   "metadata": {},
   "outputs": [],
   "source": [
    "p_data.to_csv(r'C:\\Users\\Abid\\anaconda\\envs\\Lab_4.2\\3_Outlier_Identified.csv',index=False)"
   ]
  }
 ],
 "metadata": {
  "kernelspec": {
   "display_name": "env",
   "language": "python",
   "name": "python3"
  },
  "language_info": {
   "codemirror_mode": {
    "name": "ipython",
    "version": 3
   },
   "file_extension": ".py",
   "mimetype": "text/x-python",
   "name": "python",
   "nbconvert_exporter": "python",
   "pygments_lexer": "ipython3",
   "version": "3.10.13"
  }
 },
 "nbformat": 4,
 "nbformat_minor": 5
}
